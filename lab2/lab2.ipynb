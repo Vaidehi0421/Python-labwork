{
 "cells": [
  {
   "cell_type": "code",
   "execution_count": null,
   "metadata": {},
   "outputs": [],
   "source": [
    "num=input(\"Enter the value of n\")\n",
    "for i in range(1, (int)(num)):\n",
    "    if i%2==0 :\n",
    "        print(i)"
   ]
  },
  {
   "cell_type": "code",
   "execution_count": null,
   "metadata": {},
   "outputs": [],
   "source": [
    "num=input(\"Enter a number\")\n",
    "count=0\n",
    "for i in range(2, int(num)):\n",
    "   if int(num)%i==0:\n",
    "    count=count+1\n",
    "if count==0:\n",
    "    print(\"Prime Number\")\n",
    "else:\n",
    "    print(\"Not a Prime Number\")"
   ]
  },
  {
   "cell_type": "code",
   "execution_count": 2,
   "metadata": {},
   "outputs": [
    {
     "name": "stdout",
     "output_type": "stream",
     "text": [
      "Enter a number12\n",
      "0\n",
      "1\n",
      "1\n",
      "2\n",
      "3\n",
      "5\n",
      "8\n",
      "13\n",
      "21\n",
      "34\n",
      "55\n",
      "89\n"
     ]
    }
   ],
   "source": [
    "num=input(\"Enter a number\")\n",
    "first=0\n",
    "second=1\n",
    "for i in range(int(num)):\n",
    "    print(first)\n",
    "    temp=first+second\n",
    "    first=second\n",
    "    second=temp"
   ]
  },
  {
   "cell_type": "code",
   "execution_count": 6,
   "metadata": {},
   "outputs": [
    {
     "name": "stdout",
     "output_type": "stream",
     "text": [
      "Enter a number5\n",
      "10\n"
     ]
    }
   ],
   "source": [
    "num=input(\"Enter a number\")\n",
    "sum=0\n",
    "for i in range(int(num)):\n",
    "    sum=sum+i\n",
    "print(sum)"
   ]
  },
  {
   "cell_type": "code",
   "execution_count": 7,
   "metadata": {},
   "outputs": [
    {
     "name": "stdout",
     "output_type": "stream",
     "text": [
      "Enter a number12\n",
      "2\n",
      "3\n",
      "5\n",
      "7\n",
      "11\n"
     ]
    }
   ],
   "source": [
    "num=input(\"Enter a number\")\n",
    "for i in range(2,int(num)):\n",
    "   if i > 1:\n",
    "       for j in range(2, i):\n",
    "           if (i % j) == 0:\n",
    "               break\n",
    "       else:\n",
    "           print(i)"
   ]
  },
  {
   "cell_type": "code",
   "execution_count": 9,
   "metadata": {},
   "outputs": [
    {
     "name": "stdout",
     "output_type": "stream",
     "text": [
      "Enter a number: 12\n",
      "12 is not an Armstrong number\n"
     ]
    }
   ],
   "source": [
    "num = int(input(\"Enter a number\"))\n",
    "sum = 0\n",
    "temp = num\n",
    "while temp > 0:\n",
    "   rem = temp % 10\n",
    "   sum = sum + rem ** 3\n",
    "   temp= int(temp/10)\n",
    "if num == sum:\n",
    "   print(num,\"is an Armstrong number\")\n",
    "else:\n",
    "   print(num,\"is not an Armstrong number\")"
   ]
  },
  {
   "cell_type": "code",
   "execution_count": 12,
   "metadata": {},
   "outputs": [
    {
     "name": "stdout",
     "output_type": "stream",
     "text": [
      "Enter a number3\n",
      "Not a perfect square\n"
     ]
    }
   ],
   "source": [
    "import math\n",
    "num = int(input(\"Enter a number\"))\n",
    "sqrt = int(math.sqrt(num))\n",
    "if sqrt*sqrt==num:\n",
    "    print(\"Perfect square\")\n",
    "else:\n",
    "    print(\"Not a perfect square\")"
   ]
  },
  {
   "cell_type": "code",
   "execution_count": 22,
   "metadata": {},
   "outputs": [
    {
     "name": "stdout",
     "output_type": "stream",
     "text": [
      "Enter a number121\n",
      "1\n",
      "12\n",
      "121\n",
      "Palindrome\n"
     ]
    }
   ],
   "source": [
    "num=int(input(\"Enter a number\"))\n",
    "rev=0\n",
    "temp=num\n",
    "while(num>0):\n",
    "    rem=num%10\n",
    "    if rev!=0:\n",
    "        rev=(rev*10)+rem\n",
    "    else:\n",
    "        rev=rem\n",
    "    num=int(num/10)\n",
    "\n",
    "if temp==rev:\n",
    "    print(\"Palindrome\")\n",
    "else:\n",
    "    print(\"Not a Palindrome\")"
   ]
  },
  {
   "cell_type": "code",
   "execution_count": 24,
   "metadata": {},
   "outputs": [
    {
     "name": "stdout",
     "output_type": "stream",
     "text": [
      "Enter a number3\n",
      "6\n"
     ]
    }
   ],
   "source": [
    "num=int(input(\"Enter a number\"))\n",
    "fact=1\n",
    "while num>0:\n",
    "    fact=fact*num\n",
    "    num=num-1\n",
    "print(fact)"
   ]
  },
  {
   "cell_type": "code",
   "execution_count": 33,
   "metadata": {},
   "outputs": [
    {
     "name": "stdout",
     "output_type": "stream",
     "text": [
      "Enter a year2020\n",
      "2020 is a leap year\n"
     ]
    }
   ],
   "source": [
    "year=int(input(\"Enter a year\"))\n",
    "if (year % 4)==0:\n",
    "   if (year % 100)==0:\n",
    "       if (year % 400)==0:\n",
    "           print(year,\" is a leap year\")\n",
    "       else:\n",
    "           print(year,\" is not a leap year\")\n",
    "   else:\n",
    "       print(year,\"is a leap year\")\n",
    "else:\n",
    "   print(year,\"is not a leap year\")"
   ]
  },
  {
   "cell_type": "code",
   "execution_count": 1,
   "metadata": {},
   "outputs": [
    {
     "name": "stdout",
     "output_type": "stream",
     "text": [
      "Enter the value of n10\n",
      "2\n",
      "5\n",
      "10\n",
      "17\n",
      "26\n",
      "37\n",
      "50\n",
      "65\n",
      "82\n",
      "101\n"
     ]
    }
   ],
   "source": [
    "n=int(input(\"Enter the value of n\"))\n",
    "initial=2\n",
    "inc=3\n",
    "for i in range(n):\n",
    "    print(initial)\n",
    "    initial+=inc\n",
    "    inc+=2"
   ]
  },
  {
   "cell_type": "code",
   "execution_count": 5,
   "metadata": {},
   "outputs": [
    {
     "name": "stdout",
     "output_type": "stream",
     "text": [
      "Enter a number3\n",
      "2\n",
      "3\n",
      "3.583333333333333\n"
     ]
    }
   ],
   "source": [
    "n=int(input(\"Enter a number\"))\n",
    "sum=0\n",
    "for i in range(2,n+1):\n",
    "    sum+=((i*i)/(i+1))\n",
    "print(sum)"
   ]
  },
  {
   "cell_type": "code",
   "execution_count": null,
   "metadata": {},
   "outputs": [],
   "source": [
    "x=int(input(\"Enter first number\"))\n",
    "y=int(input(\"Enter second number\"))\n",
    "if x>y:\n",
    "    min=y\n",
    "else:\n",
    "    min=x\n",
    "hcf=0\n",
    "for i in range(1,min+1):\n",
    "    if x%i==0 and y%i==0:\n",
    "        hcf=i\n",
    "print(hcf)"
   ]
  },
  {
   "cell_type": "code",
   "execution_count": 10,
   "metadata": {},
   "outputs": [
    {
     "name": "stdout",
     "output_type": "stream",
     "text": [
      "Enter a12\n",
      "Enter b12\n",
      "Enter c12\n",
      "(-0.5+0.8660254037844387j) (-0.5-0.8660254037844387j)\n"
     ]
    }
   ],
   "source": [
    "import cmath\n",
    "a=int(input(\"Enter a\"))\n",
    "b=int(input(\"Enter b\"))\n",
    "c=int(input(\"Enter c\"))\n",
    "d=(b**2)-(4*a*c)\n",
    "ans1=(-b+cmath.sqrt(d))/(2*a)\n",
    "ans2=(-b-cmath.sqrt(d))/(2*a)\n",
    "print(ans1,ans2)"
   ]
  },
  {
   "cell_type": "code",
   "execution_count": 25,
   "metadata": {},
   "outputs": [
    {
     "name": "stdout",
     "output_type": "stream",
     "text": [
      "153 is an Armstrong number\n",
      "370 is an Armstrong number\n",
      "371 is an Armstrong number\n",
      "407 is an Armstrong number\n"
     ]
    }
   ],
   "source": [
    "for i in range(2,501):\n",
    "    sum = 0\n",
    "    temp = int(i)\n",
    "    while temp > 0:\n",
    "        rem = temp % 10\n",
    "        sum = sum + rem ** 3\n",
    "        temp= int(temp/10)\n",
    "    if int(i) == sum:\n",
    "       print(i,\"is an Armstrong number\")"
   ]
  },
  {
   "cell_type": "code",
   "execution_count": 28,
   "metadata": {},
   "outputs": [
    {
     "name": "stdout",
     "output_type": "stream",
     "text": [
      "1\n",
      "4\n",
      "9\n",
      "16\n",
      "25\n",
      "36\n",
      "49\n",
      "64\n",
      "81\n",
      "100\n",
      "121\n",
      "144\n",
      "169\n",
      "196\n",
      "225\n",
      "256\n",
      "289\n",
      "324\n",
      "361\n",
      "400\n",
      "441\n",
      "484\n"
     ]
    }
   ],
   "source": [
    "import math\n",
    "for num in range(1,501):\n",
    "    sqrt = int(math.sqrt(num))\n",
    "    if sqrt*sqrt==num:\n",
    "        print(num)"
   ]
  },
  {
   "cell_type": "code",
   "execution_count": 30,
   "metadata": {},
   "outputs": [
    {
     "name": "stdout",
     "output_type": "stream",
     "text": [
      "Enter a number3\n",
      "3.5\n"
     ]
    }
   ],
   "source": [
    "def fact(a):\n",
    "    fac=1\n",
    "    for i in range(1,a+1):\n",
    "        fac=fac*i\n",
    "    return fac\n",
    "n=int(input(\"Enter a number\"))\n",
    "sum=0\n",
    "for i in range(2,n+1):\n",
    "    sum+=((i**2)/fact(i))\n",
    "print(sum)"
   ]
  },
  {
   "cell_type": "code",
   "execution_count": null,
   "metadata": {},
   "outputs": [],
   "source": [
    "from math import factorial  \n",
    "n =int(input(\"Enter a number\")) \n",
    "for i in range(n):\n",
    "    print(\" \"*(n-i),end=\" \")\n",
    "    for j in range(i+1):\n",
    "        print(factorial(i)//(factorial(j)*factorial(i-j)), end=\" \") \n",
    "    print()\n"
   ]
  },
  {
   "cell_type": "markdown",
   "metadata": {},
   "source": [
    "# Welcome to Jupyter!"
   ]
  },
  {
   "cell_type": "markdown",
   "metadata": {},
   "source": [
    "This repo contains an introduction to [Jupyter](https://jupyter.org) and [IPython](https://ipython.org).\n",
    "\n",
    "Outline of some basics:\n",
    "\n",
    "* [Notebook Basics](../examples/Notebook/Notebook%20Basics.ipynb)\n",
    "* [IPython - beyond plain python](../examples/IPython%20Kernel/Beyond%20Plain%20Python.ipynb)\n",
    "* [Markdown Cells](../examples/Notebook/Working%20With%20Markdown%20Cells.ipynb)\n",
    "* [Rich Display System](../examples/IPython%20Kernel/Rich%20Output.ipynb)\n",
    "* [Custom Display logic](../examples/IPython%20Kernel/Custom%20Display%20Logic.ipynb)\n",
    "* [Running a Secure Public Notebook Server](../examples/Notebook/Running%20the%20Notebook%20Server.ipynb#Securing-the-notebook-server)\n",
    "* [How Jupyter works](../examples/Notebook/Multiple%20Languages%2C%20Frontends.ipynb) to run code in different languages."
   ]
  },
  {
   "cell_type": "markdown",
   "metadata": {},
   "source": [
    "You can also get this tutorial and run it on your laptop:\n",
    "\n",
    "    git clone https://github.com/ipython/ipython-in-depth\n",
    "\n",
    "Install IPython and Jupyter:\n",
    "\n",
    "with [conda](https://www.anaconda.com/download):\n",
    "\n",
    "    conda install ipython jupyter\n",
    "\n",
    "with pip:\n",
    "\n",
    "    # first, always upgrade pip!\n",
    "    pip install --upgrade pip\n",
    "    pip install --upgrade ipython jupyter\n",
    "\n",
    "Start the notebook in the tutorial directory:\n",
    "\n",
    "    cd ipython-in-depth\n",
    "    jupyter notebook"
   ]
  }
 ],
 "metadata": {
  "kernelspec": {
   "display_name": "Python 3",
   "language": "python",
   "name": "python3"
  },
  "language_info": {
   "codemirror_mode": {
    "name": "ipython",
    "version": 3
   },
   "file_extension": ".py",
   "mimetype": "text/x-python",
   "name": "python",
   "nbconvert_exporter": "python",
   "pygments_lexer": "ipython3",
   "version": "3.6.11"
  }
 },
 "nbformat": 4,
 "nbformat_minor": 2
}
